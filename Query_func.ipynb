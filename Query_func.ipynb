{
 "cells": [
  {
   "cell_type": "code",
   "execution_count": 166,
   "metadata": {},
   "outputs": [],
   "source": [
    "# imports\n",
    "import astropy\n",
    "import numpy as np\n",
    "from astropy.io import fits, votable\n",
    "from astropy.table import Table, Column\n",
    "from scipy.spatial import KDTree\n",
    "import matplotlib.pyplot as plt\n",
    "import kdtree\n",
    "from glob import glob\n",
    "import sys\n",
    "import argparse\n",
    "from statistics import median, mean"
   ]
  },
  {
   "cell_type": "code",
   "execution_count": 132,
   "metadata": {},
   "outputs": [
    {
     "name": "stderr",
     "output_type": "stream",
     "text": [
      "usage: ipykernel_launcher.py [-h] [-q {zone,coords,bd}] [-f] [-g] [-z ZONE]\n",
      "                             [-t TILE] [-v VEL] [-s SPREAD] [-n NUMOBS]\n",
      "                             [-r RA] [-d DEC]\n",
      "ipykernel_launcher.py: error: unrecognized arguments: /Users/Suyog/Library/Jupyter/runtime/kernel-6689dfc5-2bdf-44ba-a8ea-bae551c857a2.json\n"
     ]
    },
    {
     "ename": "SystemExit",
     "evalue": "2",
     "output_type": "error",
     "traceback": [
      "An exception has occurred, use %tb to see the full traceback.\n",
      "\u001b[0;31mSystemExit\u001b[0m\u001b[0;31m:\u001b[0m 2\n"
     ]
    },
    {
     "name": "stderr",
     "output_type": "stream",
     "text": [
      "/Users/Suyog/anaconda/lib/python3.6/site-packages/IPython/core/interactiveshell.py:2918: UserWarning: To exit: use 'exit', 'quit', or Ctrl-D.\n",
      "  warn(\"To exit: use 'exit', 'quit', or Ctrl-D.\", stacklevel=1)\n"
     ]
    }
   ],
   "source": [
    "# Command line args\n",
    "#first_arg = sys.argv[1]\n",
    "#second_arg = sys.argv[2]\n",
    "#try:\n",
    "#    third_arg = sys.argv[3]\n",
    "#    fourth_arg = sys.argv[4]\n",
    "#except:\n",
    "#    third_arg = None\n",
    "#    fourth_arg = None\n",
    "# argparse\n",
    "parser = argparse.ArgumentParser()\n",
    "parser.add_argument(\"-q\", \"--query_type\", choices=['zone', 'coords', 'bd', 'gal'], help=\"Type of function/query you want to run\")\n",
    "parser.add_argument(\"-f\", \"--fast\", help=\"Limit query to objects over PM > 0.1 as/yr\",\n",
    "                    action=\"store_true\")\n",
    "parser.add_argument(\"-g\", \"--gaia\", help=\"Match with gaia data\",\n",
    "                    action=\"store_true\")\n",
    "parser.add_argument(\"-z\" ,\"--zone\", help=\"Zone number to query\")\n",
    "parser.add_argument(\"-t\", \"--tile\", help=\"Tile name to query\")\n",
    "parser.add_argument(\"-v\", \"--vel\", help=\"Minimum velocity of objects returned from query\", default = 0.1)\n",
    "parser.add_argument(\"-s\", \"--spread\", help=\"Maximum spread model of objects returned from query\", default = 0.006)\n",
    "parser.add_argument(\"-n\", \"--numobs\", help=\"Minimum number of observations of objects returned from query\", default = 9)\n",
    "parser.add_argument(\"-r\", \"--ra\", help=\"RA to pass into coordinate query\")\n",
    "parser.add_argument(\"-d\", \"--dec\", help=\"Dec to pass into coordinate query\")\n",
    "parser.add_argument(\"-o\", \"--outfile\", help=\"Number on the output file\")\n",
    "args = parser.parse_args()\n"
   ]
  },
  {
   "cell_type": "code",
   "execution_count": 162,
   "metadata": {},
   "outputs": [],
   "source": [
    "# This class emulates a tuple, but contains a useful payload - for KDTree\n",
    "class Node(object):\n",
    "    def __init__(self, ra, dec, data, idx = 0):\n",
    "        self.coords = (ra, dec)\n",
    "        self.data = data\n",
    "        self.idx = idx\n",
    "\n",
    "    def __len__(self):\n",
    "        return len(self.coords)\n",
    "\n",
    "    def __getitem__(self, i):\n",
    "        return self.coords[i]\n",
    "    \n",
    "    def getdata(self):\n",
    "        return self.data\n",
    "    \n",
    "    def get_index(self):\n",
    "        return self.idx\n",
    "\n",
    "    def __repr__(self):\n",
    "        return 'Node({}, {}, {})'.format(self.coords[0], self.coords[1], self.data)"
   ]
  },
  {
   "cell_type": "code",
   "execution_count": 3,
   "metadata": {},
   "outputs": [],
   "source": [
    "# path to zones file\n",
    "zones = Table.read('zones.fits')"
   ]
  },
  {
   "cell_type": "code",
   "execution_count": 4,
   "metadata": {},
   "outputs": [],
   "source": [
    "# src directories\n",
    "in_dir = './'#/data3/garyb/tno/matcher/'\n",
    "out_dir = './'#'./output/'"
   ]
  },
  {
   "cell_type": "code",
   "execution_count": 126,
   "metadata": {},
   "outputs": [],
   "source": [
    "# \n",
    "def Query_PM(zone, tile, fast = False, vel = 0.1, spread_model = 0.006, n = 9, gaia = False):\n",
    "    '''tilewise query given Zone number and tilename'''\n",
    "    #find the zone folder\n",
    "    path = in_dir + 'zone' + \"{:0>3}\".format(zone) + '/' + tile + '_proper_n.fits'\n",
    "    #find the tile to query\n",
    "    tile = Table.read(path) #some tile\n",
    "    t = tile[np.where(tile['SPREAD_MODEL_WAVG'] < spread_model)]\n",
    "    idx = []\n",
    "    for i, row in enumerate(t):\n",
    "        # cuts\n",
    "        if (row['N'] < n) | (row['CHI2_RED'] > 3) | (row['MAG_AUTO_G'] > 24) | (row['MAG_AUTO_R'] > 23) | (row['VEL']/row['SIGMA_VEL'] < 5):\n",
    "            continue\n",
    "        elif fast:\n",
    "            if row['VEL'] > vel:\n",
    "                idx.append(i)\n",
    "        else:\n",
    "            idx.append(i)\n",
    "    res = t[idx]\n",
    "    if gaia:\n",
    "        res = gaia_match(t[idx], zone)\n",
    "    return res"
   ]
  },
  {
   "cell_type": "code",
   "execution_count": 6,
   "metadata": {},
   "outputs": [],
   "source": [
    "# coordinate query\n",
    "def Query_by_coords(RA, Dec, fast = False):\n",
    "    ''' Query given RA and Dec for a point '''\n",
    "    tgt = zones[np.where((zones['RACMAX'] > RA) & (zones['RACMIN'] < RA) & (zones['DECCMAX'] > Dec) & (zones['DECCMIN'] < Dec))]\n",
    "    zone = tgt['ZONE']\n",
    "    tile = tgt['TILE']\n",
    "    blacklist = Table.read('blacklist.txt', format = 'ascii')\n",
    "    results = []\n",
    "    if len(tile) == 1:\n",
    "        if tile[0] in blacklist['Tile']:\n",
    "            pass\n",
    "        else:\n",
    "            results.append(Query_PM(zone[0], tile[0], fast))\n",
    "    else:\n",
    "        for i,t in enumerate(tile):\n",
    "            if t in blacklist['Tile']:\n",
    "                continue\n",
    "            else:\n",
    "                results.append(Query_PM(zone[i], t, fast))\n",
    "    return results"
   ]
  },
  {
   "cell_type": "code",
   "execution_count": 64,
   "metadata": {},
   "outputs": [],
   "source": [
    "def BD_match():\n",
    "    ''' Function to match Aurelio's Brown dwarfs file to our data '''\n",
    "    bd = Table.read('DES_Y3_known_BDs_with_motions.fits')\n",
    "    vz_list = [29]#[3, 6, 7, 10, 11, 15, 16, 17, 29, 55]\n",
    "    z_list = []\n",
    "    tile_list = []\n",
    "    r_list = []\n",
    "    # get zone and tile for each processed BD candidate\n",
    "    for row in bd:\n",
    "        RA = row['RA']\n",
    "        Dec = row['DEC']\n",
    "        tgt = zones[np.where((zones['RACMAX'] > RA) & (zones['RACMIN'] < RA) & (zones['DECCMAX'] > Dec) & (zones['DECCMIN'] < Dec))]\n",
    "        zone = tgt['ZONE']\n",
    "        tile = tgt['TILE']\n",
    "        if (len(zone) != 0):\n",
    "            if zone[0] in vz_list:\n",
    "                z_list.append(zone[0])\n",
    "                tile_list.append(tile[0])\n",
    "                r_list.append(row)\n",
    "    out = Table(names=('COADD_OBJECT_ID', 'MU_RA_DES','MU_RA_DES_ERR','MU_DEC_DES','MU_DEC_DES_ERR', 'MU_RA_2MASS_WISE','MU_RA_2MASS_WISE_ERR', 'MU_DEC_2MASS_WISE', 'MU_DEC_2MASS_WISE_ERR'))\n",
    "    for i, row in enumerate(r_list):\n",
    "        t = get_zone(z_list[i], tile_list[i], row['COADD_OBJECT_ID'])\n",
    "        r = t[np.where(t['COADD_OBJECT_ID'] == row['COADD_OBJECT_ID'])]\n",
    "        if len(r) != 0:\n",
    "            r = r[0]\n",
    "            mura = row['2MASS-WISE-mu_alfa'].split(' ')[0]\n",
    "            mura_err = row['2MASS-WISE-mu_alfa'].split(' ')[2]\n",
    "            mudec = row['2MASS-WISE-mu_delta'].split(' ')[0]\n",
    "            mudec_err = row['2MASS-WISE-mu_delta'].split(' ')[2]\n",
    "            out.add_row((row['COADD_OBJECT_ID'], r['MU_RA'], r['MU_RA_ERR'], r['MU_DEC'], r['MU_DEC_ERR'], mura, mura_err, mudec, mudec_err))\n",
    "    return out"
   ]
  },
  {
   "cell_type": "code",
   "execution_count": 164,
   "metadata": {},
   "outputs": [],
   "source": [
    "def gaia_match(tile, zone):\n",
    "    \"\"\" Matches the tile data to Gaia data using the Gaia KDTree provided \"\"\"\n",
    "    match = []\n",
    "    # add columns\n",
    "    col = Table.Column(data=[''*len(tile)], name = 'GAIA_MATCH', dtype='U50')\n",
    "    tile['GAIA_MATCH'] = col\n",
    "    col2 = Table.Column(data=[0]*len(tile), name = 'GAIA_MATCH_DIST', dtype='f8')\n",
    "    tile['GAIA_MATCH_DIST'] = col2\n",
    "    # get tree\n",
    "    g_name = 'Gaia-Z' + \"{:0>3}\".format(zone) + '.csv'\n",
    "    g = Table.read('./gaia/' + g_name)\n",
    "    tree = get_kdtree(g)\n",
    "    # match objects\n",
    "    for i, j in enumerate(tile):\n",
    "        tgt = Node(tile[i]['RA'], tile[i]['DEC'], '')\n",
    "        tup = tree.search_nn(tgt)\n",
    "        # 25 arcseconds - 0.00005\n",
    "        # 10 arcseconds - 0.000008\n",
    "        # 5 arcseconds - 0.0000019\n",
    "        # 1 arcsecond - 7.7 x 10^-8\n",
    "        #print(tup)\n",
    "        if tup[1] < (7.7*10**-8):\n",
    "            #print(tile['RA', 'DEC'][i])\n",
    "            #print(tup)\n",
    "            match.append(i)\n",
    "            tile['GAIA_MATCH'][i] = tup[0].data.getdata()\n",
    "            tile['GAIA_MATCH_DIST'][i] = tup[1]\n",
    "            #sim_num.append(tup[0].data.get_index())\n",
    "    return tile[match]\n",
    "\n",
    "def get_kdtree(table):\n",
    "    \"\"\" Calculates the KDTree from Gaia data. \"\"\"\n",
    "    nodes = []\n",
    "    for i in range(len(table)):\n",
    "        ra_deg = table['ra'][i]\n",
    "        dec_deg = table['dec'][i]\n",
    "        curr = Node(ra_deg, dec_deg, table['designation'][i])\n",
    "        nodes.append(curr)\n",
    "    tree = kdtree.create(nodes)\n",
    "    return tree"
   ]
  },
  {
   "cell_type": "code",
   "execution_count": 131,
   "metadata": {},
   "outputs": [
    {
     "ename": "NameError",
     "evalue": "name 'args' is not defined",
     "output_type": "error",
     "traceback": [
      "\u001b[0;31m---------------------------------------------------------------------------\u001b[0m",
      "\u001b[0;31mNameError\u001b[0m                                 Traceback (most recent call last)",
      "\u001b[0;32m<ipython-input-131-7b056efae97b>\u001b[0m in \u001b[0;36m<module>\u001b[0;34m()\u001b[0m\n\u001b[1;32m      1\u001b[0m \u001b[0;32mif\u001b[0m \u001b[0m__name__\u001b[0m \u001b[0;34m==\u001b[0m \u001b[0;34m\"__main__\"\u001b[0m\u001b[0;34m:\u001b[0m\u001b[0;34m\u001b[0m\u001b[0m\n\u001b[1;32m      2\u001b[0m     \u001b[0mt\u001b[0m \u001b[0;34m=\u001b[0m \u001b[0;32mNone\u001b[0m\u001b[0;34m\u001b[0m\u001b[0m\n\u001b[0;32m----> 3\u001b[0;31m     \u001b[0;32mif\u001b[0m \u001b[0margs\u001b[0m\u001b[0;34m.\u001b[0m\u001b[0mquery_type\u001b[0m \u001b[0;34m==\u001b[0m \u001b[0;34m'zone'\u001b[0m\u001b[0;34m:\u001b[0m\u001b[0;34m\u001b[0m\u001b[0m\n\u001b[0m\u001b[1;32m      4\u001b[0m         \u001b[0mt\u001b[0m \u001b[0;34m=\u001b[0m \u001b[0mQuery_PM\u001b[0m\u001b[0;34m(\u001b[0m\u001b[0margs\u001b[0m\u001b[0;34m.\u001b[0m\u001b[0mzone\u001b[0m\u001b[0;34m,\u001b[0m \u001b[0margs\u001b[0m\u001b[0;34m.\u001b[0m\u001b[0mtile\u001b[0m\u001b[0;34m,\u001b[0m \u001b[0mfast\u001b[0m \u001b[0;34m=\u001b[0m \u001b[0margs\u001b[0m\u001b[0;34m.\u001b[0m\u001b[0mfast\u001b[0m\u001b[0;34m,\u001b[0m \u001b[0mvel\u001b[0m \u001b[0;34m=\u001b[0m \u001b[0margs\u001b[0m\u001b[0;34m.\u001b[0m\u001b[0mvel\u001b[0m\u001b[0;34m,\u001b[0m \u001b[0mspread_model\u001b[0m \u001b[0;34m=\u001b[0m \u001b[0margs\u001b[0m\u001b[0;34m.\u001b[0m\u001b[0mspread\u001b[0m\u001b[0;34m,\u001b[0m \u001b[0mn\u001b[0m \u001b[0;34m=\u001b[0m \u001b[0margs\u001b[0m\u001b[0;34m.\u001b[0m\u001b[0mnumobs\u001b[0m\u001b[0;34m,\u001b[0m \u001b[0mgaia\u001b[0m \u001b[0;34m=\u001b[0m \u001b[0margs\u001b[0m\u001b[0;34m.\u001b[0m\u001b[0mgaia\u001b[0m\u001b[0;34m)\u001b[0m\u001b[0;34m\u001b[0m\u001b[0m\n\u001b[1;32m      5\u001b[0m     \u001b[0;32melif\u001b[0m \u001b[0margs\u001b[0m\u001b[0;34m.\u001b[0m\u001b[0mquery_type\u001b[0m \u001b[0;34m==\u001b[0m \u001b[0;34m'coords'\u001b[0m\u001b[0;34m:\u001b[0m\u001b[0;34m\u001b[0m\u001b[0m\n",
      "\u001b[0;31mNameError\u001b[0m: name 'args' is not defined"
     ]
    }
   ],
   "source": [
    "if __name__ == \"__main__\":\n",
    "    t = None\n",
    "    if args.query_type == 'zone':\n",
    "        t = Query_PM(args.zone, args.tile, fast = args.fast, vel = args.vel, spread_model = args.spread, n = args.numobs, gaia = args.gaia)\n",
    "    elif args.query_type == 'coords':\n",
    "        t = Query_by_coords(args.ra, args.dec, fast = args.fast)\n",
    "    elif args.query_type == 'bd':\n",
    "        t = BD_match()\n",
    "    elif args.query_type == 'gal':\n",
    "        t = Median_galaxy_PMs()\n",
    "    outfile = \"Query{}.fits\".format(args.outfile)\n",
    "    t.write(out_dir + outfile, format = 'fits')"
   ]
  },
  {
   "cell_type": "code",
   "execution_count": 282,
   "metadata": {},
   "outputs": [],
   "source": [
    "def Median_galaxy_PMs():\n",
    "    zones = [29, 55] #2, 6, 15\n",
    "    out = Table(names=('ZONE', 'TILE', 'MEDIAN_GALAXY_MU_RA', 'MEDIAN_GALAXY_MU_DEC', 'GAIA-DES_MU_RA', 'GAIA-DES_MU_DEC', 'RA', 'DEC'), dtype=('i4','S30', 'f8', 'f8','f8','f8', 'f8', 'f8'))\n",
    "    for zone in zones:\n",
    "        path = in_dir + 'zone' + \"{:0>3}\".format(zone) + '/'\n",
    "        filenames = glob(path + '*proper_n.fits')\n",
    "        tiles = []\n",
    "        list.sort(filenames)\n",
    "        for name in filenames:\n",
    "            tiles.append(Table.read(name))\n",
    "        # Potentially galaxies?\n",
    "        for i, tile in enumerate(tiles):\n",
    "            dra, ddec = Gaia_PM_diff(zone, tile)\n",
    "            mra, mdec = Galaxy_PM_tile(tile)\n",
    "            out.add_row((zone, filenames[i], mra, mdec, dra, ddec, tile[0]['RA'], tile[0]['DEC']))\n",
    "    return out\n",
    "\n",
    "def Gaia_PM_diff(zone, tile):\n",
    "    #gal = np.where(tile['SPREAD_MODEL_WAVG'] > 0.01)\n",
    "    #galx = tile[gal]\n",
    "    gal = tile[np.where(tile['SPREAD_MODEL_WAVG'] < 0.006)]\n",
    "    idx = []\n",
    "    for i, row in enumerate(gal):\n",
    "        # cuts\n",
    "        if (row['N'] < 9) | (row['CHI2_RED'] > 3) | (row['MAG_AUTO_G'] > 24) | (row['MAG_AUTO_R'] > 23) | (row['VEL']/row['SIGMA_VEL'] < 5):\n",
    "            continue\n",
    "        else:\n",
    "            idx.append(i)\n",
    "    gal_m = gaia_match(gal[idx], zone)\n",
    "    # consider switching to gaia_match func\n",
    "    # diff\n",
    "    dpmra = []\n",
    "    dpmdec = []\n",
    "    for i, iden in enumerate(gal_m):\n",
    "        g_id = iden['GAIA_MATCH']\n",
    "        g_name = 'Gaia-Z' + \"{:0>3}\".format(zone) + '.csv'\n",
    "        g = Table.read('./gaia/' + g_name)\n",
    "        row = g[np.where(g['designation'] == g_id)]\n",
    "        if g['pmra'].mask[np.where(g['designation'] == g_id)] == False:\n",
    "            dpmra.append(row['pmra']/1000 - iden['MU_RA'])\n",
    "            dpmdec.append(row['pmdec']/1000 - iden['MU_DEC'])\n",
    "    dra = median(dpmra)\n",
    "    ddec = median(dpmdec)\n",
    "    return dra, ddec\n",
    "\n",
    "def Galaxy_PM_tile(tile):\n",
    "    gal = np.where(tile['SPREAD_MODEL_WAVG'] > 0.01)\n",
    "    mra = median(tile[gal]['MU_RA'])\n",
    "    mdec = median(tile[gal]['MU_DEC'])\n",
    "    return mra, mdec"
   ]
  },
  {
   "cell_type": "code",
   "execution_count": 65,
   "metadata": {},
   "outputs": [],
   "source": [
    "t = BD_match()\n",
    "outfile = \"Query{}.fits\".format('001')\n",
    "t.write(out_dir + outfile, format = 'fits', overwrite = True)"
   ]
  },
  {
   "cell_type": "code",
   "execution_count": 71,
   "metadata": {},
   "outputs": [],
   "source": [
    "qr = Table.read('Query001.fits')"
   ]
  },
  {
   "cell_type": "code",
   "execution_count": 24,
   "metadata": {},
   "outputs": [],
   "source": [
    "def get_zone(zone, tile,coadd_id):\n",
    "    #find the zone folder\n",
    "    path = in_dir + 'zone' + \"{:0>3}\".format(zone) + '/' + tile + '_proper_n.fits'\n",
    "    #find the tile to query\n",
    "    tile = Table.read(path) #some tile\n",
    "    r = tile[np.where(tile['COADD_OBJECT_ID'] == coadd_id)]\n",
    "    return r"
   ]
  },
  {
   "cell_type": "code",
   "execution_count": 72,
   "metadata": {},
   "outputs": [
    {
     "data": {
      "text/html": [
       "&lt;Table length=22&gt;\n",
       "<table id=\"table4521731744\" class=\"table-striped table-bordered table-condensed\">\n",
       "<thead><tr><th>COADD_OBJECT_ID</th><th>MU_RA_DES</th><th>MU_RA_DES_ERR</th><th>MU_DEC_DES</th><th>MU_DEC_DES_ERR</th><th>MU_RA_2MASS_WISE</th><th>MU_RA_2MASS_WISE_ERR</th><th>MU_DEC_2MASS_WISE</th><th>MU_DEC_2MASS_WISE_ERR</th></tr></thead>\n",
       "<thead><tr><th>float64</th><th>float64</th><th>float64</th><th>float64</th><th>float64</th><th>float64</th><th>float64</th><th>float64</th><th>float64</th></tr></thead>\n",
       "<tr><td>189071176.0</td><td>0.135031663755</td><td>2.33688340747e-06</td><td>-0.0260584322208</td><td>2.17515069244e-06</td><td>135.5</td><td>13.5</td><td>-16.8</td><td>17.3</td></tr>\n",
       "<tr><td>190602828.0</td><td>-0.0332564641504</td><td>1.14711518115e-06</td><td>-0.0375023094173</td><td>2.0451521185e-06</td><td>-42.4</td><td>13.1</td><td>-30.2</td><td>16.1</td></tr>\n",
       "<tr><td>197792469.0</td><td>0.12709725125</td><td>3.67836014409e-06</td><td>-0.0672276740341</td><td>3.62321796389e-06</td><td>112.5</td><td>49.3</td><td>-58.7</td><td>48.2</td></tr>\n",
       "<tr><td>199485708.0</td><td>0.113924657993</td><td>1.35807145781e-06</td><td>0.052412620883</td><td>1.57814928242e-06</td><td>117.5</td><td>18.4</td><td>67.8</td><td>19.3</td></tr>\n",
       "<tr><td>203462728.0</td><td>-0.0797450265975</td><td>1.34355720504e-06</td><td>0.135555015933</td><td>2.75444840744e-06</td><td>-71.6</td><td>8.6</td><td>145.6</td><td>7.9</td></tr>\n",
       "<tr><td>205407029.0</td><td>0.117727530862</td><td>9.49389743476e-06</td><td>-0.0220776828945</td><td>9.15970505838e-06</td><td>-37.1</td><td>32.8</td><td>41.0</td><td>32.4</td></tr>\n",
       "<tr><td>146734478.0</td><td>0.361048497306</td><td>2.50664177993e-05</td><td>-0.339720667398</td><td>1.92634414029e-05</td><td>407.3</td><td>11.7</td><td>-317.0</td><td>10.9</td></tr>\n",
       "<tr><td>278584371.0</td><td>-0.166942764535</td><td>3.79917152463e-06</td><td>-0.167677694705</td><td>2.57337451668e-06</td><td>-128.2</td><td>26.2</td><td>-148.8</td><td>26.8</td></tr>\n",
       "<tr><td>281880968.0</td><td>0.13452880008</td><td>8.46329722698e-06</td><td>0.0210002992572</td><td>8.605169047e-06</td><td>40.8</td><td>9.2</td><td>10.3</td><td>8.5</td></tr>\n",
       "<tr><td>281737360.0</td><td>0.197721504541</td><td>1.62150644335e-06</td><td>-0.1958180121</td><td>1.10885788523e-06</td><td>192.9</td><td>8.2</td><td>-148.3</td><td>7.5</td></tr>\n",
       "<tr><td>287341611.0</td><td>-0.0130057437394</td><td>8.06014410848e-06</td><td>-0.127887508621</td><td>7.32649190271e-06</td><td>-14.6</td><td>10.8</td><td>11.1</td><td>10.9</td></tr>\n",
       "<tr><td>218706829.0</td><td>0.0468916519024</td><td>8.49227466666e-06</td><td>-0.155927323613</td><td>8.51612629342e-06</td><td>25.9</td><td>13.3</td><td>-152.7</td><td>14.8</td></tr>\n",
       "<tr><td>227314936.0</td><td>-0.152745559895</td><td>0.0105354481745</td><td>-0.0511923335954</td><td>0.0122397171895</td><td>-43.4</td><td>17.3</td><td>53.6</td><td>18.8</td></tr>\n",
       "<tr><td>234381048.0</td><td>0.103303260926</td><td>8.06792919599e-06</td><td>-0.299642266162</td><td>6.4538101692e-06</td><td>127.6</td><td>18.9</td><td>-269.7</td><td>19.2</td></tr>\n",
       "<tr><td>268493828.0</td><td>0.367429607227</td><td>2.03604656855e-06</td><td>-0.187550851146</td><td>1.28563954141e-06</td><td>388.5</td><td>12.2</td><td>-186.5</td><td>13.0</td></tr>\n",
       "<tr><td>343338662.0</td><td>0.20635910955</td><td>3.8570497896e-06</td><td>-0.0129919284931</td><td>2.46456140061e-06</td><td>196.1</td><td>10.1</td><td>-19.9</td><td>9.4</td></tr>\n",
       "<tr><td>195319375.0</td><td>0.0646235802869</td><td>1.12820209003e-06</td><td>0.0401507428655</td><td>1.27800779648e-06</td><td>77.5</td><td>25.7</td><td>52.5</td><td>25.9</td></tr>\n",
       "<tr><td>198574460.0</td><td>0.189044611609</td><td>3.15993636043e-06</td><td>0.269179461744</td><td>3.52489933823e-06</td><td>181.2</td><td>28.1</td><td>278.8</td><td>29.8</td></tr>\n",
       "<tr><td>95097886.0</td><td>-0.0653649061464</td><td>8.716016879e-06</td><td>-0.0530189283399</td><td>9.20473078528e-06</td><td>-111.0</td><td>34.5</td><td>-1.1</td><td>31.5</td></tr>\n",
       "<tr><td>105697047.0</td><td>-0.0360186394782</td><td>2.0052061856e-06</td><td>-0.175653607782</td><td>1.56950805347e-06</td><td>-20.5</td><td>14.0</td><td>-159.5</td><td>13.6</td></tr>\n",
       "<tr><td>106820086.0</td><td>0.044559246752</td><td>1.80405625751e-06</td><td>0.0318106271973</td><td>1.51894186239e-06</td><td>37.6</td><td>16.8</td><td>42.9</td><td>16.8</td></tr>\n",
       "<tr><td>106060046.0</td><td>-0.0629753149145</td><td>3.11436116098e-05</td><td>-0.0743974084422</td><td>2.72606339946e-05</td><td>-84.3</td><td>35.8</td><td>-90.7</td><td>36.3</td></tr>\n",
       "</table>"
      ],
      "text/plain": [
       "<Table length=22>\n",
       "COADD_OBJECT_ID    MU_RA_DES     ... MU_DEC_2MASS_WISE MU_DEC_2MASS_WISE_ERR\n",
       "    float64         float64      ...      float64             float64       \n",
       "--------------- ---------------- ... ----------------- ---------------------\n",
       "    189071176.0   0.135031663755 ...             -16.8                  17.3\n",
       "    190602828.0 -0.0332564641504 ...             -30.2                  16.1\n",
       "    197792469.0    0.12709725125 ...             -58.7                  48.2\n",
       "    199485708.0   0.113924657993 ...              67.8                  19.3\n",
       "    203462728.0 -0.0797450265975 ...             145.6                   7.9\n",
       "    205407029.0   0.117727530862 ...              41.0                  32.4\n",
       "    146734478.0   0.361048497306 ...            -317.0                  10.9\n",
       "    278584371.0  -0.166942764535 ...            -148.8                  26.8\n",
       "    281880968.0    0.13452880008 ...              10.3                   8.5\n",
       "    281737360.0   0.197721504541 ...            -148.3                   7.5\n",
       "    287341611.0 -0.0130057437394 ...              11.1                  10.9\n",
       "    218706829.0  0.0468916519024 ...            -152.7                  14.8\n",
       "    227314936.0  -0.152745559895 ...              53.6                  18.8\n",
       "    234381048.0   0.103303260926 ...            -269.7                  19.2\n",
       "    268493828.0   0.367429607227 ...            -186.5                  13.0\n",
       "    343338662.0    0.20635910955 ...             -19.9                   9.4\n",
       "    195319375.0  0.0646235802869 ...              52.5                  25.9\n",
       "    198574460.0   0.189044611609 ...             278.8                  29.8\n",
       "     95097886.0 -0.0653649061464 ...              -1.1                  31.5\n",
       "    105697047.0 -0.0360186394782 ...            -159.5                  13.6\n",
       "    106820086.0   0.044559246752 ...              42.9                  16.8\n",
       "    106060046.0 -0.0629753149145 ...             -90.7                  36.3"
      ]
     },
     "execution_count": 72,
     "metadata": {},
     "output_type": "execute_result"
    }
   ],
   "source": [
    "qr"
   ]
  },
  {
   "cell_type": "code",
   "execution_count": 81,
   "metadata": {},
   "outputs": [
    {
     "data": {
      "image/png": "[encoded data removed]",
      "text/plain": [
       "<matplotlib.figure.Figure at 0x10d83e208>"
      ]
     },
     "metadata": {},
     "output_type": "display_data"
    },
    {
     "data": {
      "image/png": "[encoded data removed]",
      "text/plain": [
       "<matplotlib.figure.Figure at 0x10ac13860>"
      ]
     },
     "metadata": {},
     "output_type": "display_data"
    }
   ],
   "source": [
    "for i, row in enumerate(qr):\n",
    "    plt.errorbar(row['MU_RA_DES']*1000, row['MU_RA_2MASS_WISE'], xerr = (np.sqrt(row['MU_RA_DES_ERR']))*1000, yerr=row['MU_RA_2MASS_WISE_ERR'], fmt = 'g.')\n",
    "plt.plot([-200,400],[-200,400])\n",
    "plt.xlabel('DES MU_RA (mas/yr)')\n",
    "plt.ylabel('2MASS-WISE MU_RA (mas/yr)')\n",
    "plt.show()\n",
    "for i, row in enumerate(qr):\n",
    "    plt.errorbar(row['MU_DEC_DES']*1000, row['MU_DEC_2MASS_WISE'], xerr = (np.sqrt(row['MU_DEC_DES_ERR']))*1000, yerr=row['MU_DEC_2MASS_WISE_ERR'], fmt = 'g.')\n",
    "plt.plot([-300,300],[-300,300])\n",
    "plt.xlabel('DES MU_DEC (mas/yr)')\n",
    "plt.ylabel('2MASS-WISE MU_DEC (mas/yr)')\n",
    "plt.show()"
   ]
  },
  {
   "cell_type": "code",
   "execution_count": 103,
   "metadata": {},
   "outputs": [
    {
     "name": "stdout",
     "output_type": "stream",
     "text": [
      "Dec min: -57.457856\n",
      "Dec max: -52.444361\n",
      "RA min: 49.032145\n",
      "RA max: 58.682923\n"
     ]
    }
   ],
   "source": [
    "z = 186\n",
    "print('Dec min:', min(zones[np.where(zones['ZONE'] == z)]['DECCMIN']))\n",
    "print('Dec max:', max(zones[np.where(zones['ZONE'] == z)]['DECCMAX']))\n",
    "print('RA min:', min(zones[np.where(zones['ZONE'] == z)]['RACMIN']))\n",
    "print('RA max:', max(zones[np.where(zones['ZONE'] == z)]['RACMAX']))"
   ]
  },
  {
   "cell_type": "code",
   "execution_count": 30,
   "metadata": {},
   "outputs": [],
   "source": [
    "bd = Table.read('DES_Y3_known_BDs_with_motions.fits')"
   ]
  },
  {
   "cell_type": "code",
   "execution_count": 86,
   "metadata": {},
   "outputs": [
    {
     "data": {
      "text/html": [
       "&lt;Table masked=True length=1&gt;\n",
       "<table id=\"table4638016400\" class=\"table-striped table-bordered table-condensed\">\n",
       "<thead><tr><th>PSF_MAG_ERR_G</th><th>PSF_MAG_ERR_R</th><th>PSF_MAG_ERR_I</th><th>PSF_MAG_ERR_Z</th><th>PSF_MAG_G</th><th>PSF_MAG_R</th><th>PSF_MAG_I</th><th>PSF_MAG_Z</th><th>EXT_NGMIX</th><th>COADD_OBJECT_ID</th><th>RA</th><th>DEC</th><th>MAG_AUTO_Y</th><th>MAGERR_AUTO_Y</th><th>SPT_NUM</th><th>DELTA_MAG_Y4_G</th><th>DELTA_MAG_Y4_R</th><th>DELTA_MAG_Y4_I</th><th>DELTA_MAG_Y4_Z</th><th>DELTA_MAG_Y4_Y</th><th>Name</th><th>SpT_OPT</th><th>SpT_NIR</th><th>D_Trig (pc)</th><th>2MASS-WISE-mu_alfa</th><th>2MASS-WISE-mu_delta</th><th>__ (mas/yr)_mu_alfa</th><th>__ (mas/yr)_mu_delta</th><th>Comments</th><th>Separation</th></tr></thead>\n",
       "<thead><tr><th></th><th></th><th></th><th></th><th></th><th></th><th></th><th></th><th></th><th></th><th></th><th></th><th></th><th></th><th></th><th></th><th></th><th></th><th></th><th></th><th></th><th></th><th></th><th></th><th></th><th></th><th></th><th></th><th></th><th>arcsec</th></tr></thead>\n",
       "<thead><tr><th>float64</th><th>float64</th><th>float64</th><th>float64</th><th>float64</th><th>float64</th><th>float64</th><th>float64</th><th>int32</th><th>int64</th><th>float64</th><th>float64</th><th>float64</th><th>float64</th><th>float64</th><th>float64</th><th>float64</th><th>float64</th><th>float64</th><th>float64</th><th>str19</th><th>str11</th><th>str25</th><th>str6</th><th>bytes16</th><th>bytes14</th><th>bytes17</th><th>bytes17</th><th>bytes235</th><th>float64</th></tr></thead>\n",
       "<tr><td>1.56775914329</td><td>0.092501701393</td><td>0.0159447066237</td><td>0.00724440789033</td><td>26.849731633</td><td>23.7053930818</td><td>21.190281286</td><td>19.6415982467</td><td>0</td><td>205407029</td><td>7.001958</td><td>1.047758</td><td>19.220500946</td><td>0.0309907</td><td>10.0</td><td>0.00573395099491</td><td>-0.00635002460331</td><td>0.000357878423529</td><td>-0.00167619157583</td><td>-0.00802587438375</td><td>J0027+0102</td><td>L0</td><td>...</td><td>...</td><td>-37.1 � 32.8</td><td>41.0 � 32.4</td><td>164.36 � 25.07</td><td>10.63 � 15.57</td><td></td><td>1.50267491068</td></tr>\n",
       "</table>"
      ],
      "text/plain": [
       "<Table masked=True length=1>\n",
       "PSF_MAG_ERR_G PSF_MAG_ERR_R  ...   Separation \n",
       "                             ...     arcsec   \n",
       "   float64       float64     ...    float64   \n",
       "------------- -------------- ... -------------\n",
       "1.56775914329 0.092501701393 ... 1.50267491068"
      ]
     },
     "execution_count": 86,
     "metadata": {},
     "output_type": "execute_result"
    }
   ],
   "source": [
    "\"\"\"\n",
    "for row in bd:\n",
    "    print('mura:',row['2MASS-WISE-mu_alfa'].split(' ')[0])\n",
    "    print('mura_err:',row['2MASS-WISE-mu_alfa'].split(' ')[2])\n",
    "    print('mudec', row['2MASS-WISE-mu_delta'].split(' ')[0])\n",
    "    print('mudec_err', row['2MASS-WISE-mu_delta'].split(' ')[2])\n",
    "\"\"\"\n",
    "bd[np.where(bd['COADD_OBJECT_ID'] == 205407029.0)]"
   ]
  },
  {
   "cell_type": "code",
   "execution_count": 221,
   "metadata": {},
   "outputs": [],
   "source": [
    "tst = Table.read('Query009.fits')"
   ]
  },
  {
   "cell_type": "code",
   "execution_count": 222,
   "metadata": {},
   "outputs": [
    {
     "data": {
      "text/html": [
       "&lt;Table length=192&gt;\n",
       "<table id=\"table5298275160\" class=\"table-striped table-bordered table-condensed\">\n",
       "<thead><tr><th>ZONE</th><th>TILE</th><th>MEDIAN_GALAXY_MU_RA</th><th>MEDIAN_GALAXY_MU_DEC</th></tr></thead>\n",
       "<thead><tr><th>int32</th><th>str30</th><th>float64</th><th>float64</th></tr></thead>\n",
       "<tr><td>6</td><td>/data3/garyb/tno/matcher/zone0</td><td>0.00215177781765</td><td>0.00541379271602</td></tr>\n",
       "<tr><td>6</td><td>/data3/garyb/tno/matcher/zone0</td><td>0.00345451036966</td><td>0.0027933510348</td></tr>\n",
       "<tr><td>6</td><td>/data3/garyb/tno/matcher/zone0</td><td>0.00278644877861</td><td>0.00459860153655</td></tr>\n",
       "<tr><td>6</td><td>/data3/garyb/tno/matcher/zone0</td><td>0.00221009004181</td><td>0.00392949719989</td></tr>\n",
       "<tr><td>6</td><td>/data3/garyb/tno/matcher/zone0</td><td>0.0013441020727</td><td>0.00387851993738</td></tr>\n",
       "<tr><td>6</td><td>/data3/garyb/tno/matcher/zone0</td><td>0.00176847881531</td><td>0.00405070944398</td></tr>\n",
       "<tr><td>6</td><td>/data3/garyb/tno/matcher/zone0</td><td>0.00300547774537</td><td>0.0052672531952</td></tr>\n",
       "<tr><td>6</td><td>/data3/garyb/tno/matcher/zone0</td><td>0.00271634466215</td><td>0.00492676434244</td></tr>\n",
       "<tr><td>6</td><td>/data3/garyb/tno/matcher/zone0</td><td>0.00215970592475</td><td>0.0029434474084</td></tr>\n",
       "<tr><td>6</td><td>/data3/garyb/tno/matcher/zone0</td><td>0.00215877234798</td><td>0.00287280397689</td></tr>\n",
       "<tr><td>...</td><td>...</td><td>...</td><td>...</td></tr>\n",
       "<tr><td>55</td><td>/data3/garyb/tno/matcher/zone0</td><td>-0.0045693126999</td><td>0.00462484867384</td></tr>\n",
       "<tr><td>55</td><td>/data3/garyb/tno/matcher/zone0</td><td>-0.00650850544728</td><td>0.00318645146423</td></tr>\n",
       "<tr><td>55</td><td>/data3/garyb/tno/matcher/zone0</td><td>-0.00457447383805</td><td>0.00368364767781</td></tr>\n",
       "<tr><td>55</td><td>/data3/garyb/tno/matcher/zone0</td><td>-0.00697724369276</td><td>0.00409980105856</td></tr>\n",
       "<tr><td>55</td><td>/data3/garyb/tno/matcher/zone0</td><td>-0.00604542492497</td><td>0.00404726024385</td></tr>\n",
       "<tr><td>55</td><td>/data3/garyb/tno/matcher/zone0</td><td>-0.00457107031428</td><td>0.00232903324994</td></tr>\n",
       "<tr><td>55</td><td>/data3/garyb/tno/matcher/zone0</td><td>-0.00466730953177</td><td>0.00315965807938</td></tr>\n",
       "<tr><td>55</td><td>/data3/garyb/tno/matcher/zone0</td><td>-0.00611778124714</td><td>0.004357246351</td></tr>\n",
       "<tr><td>55</td><td>/data3/garyb/tno/matcher/zone0</td><td>-0.00481209982883</td><td>0.00355882903932</td></tr>\n",
       "<tr><td>55</td><td>/data3/garyb/tno/matcher/zone0</td><td>-0.00475914995904</td><td>0.0027064908993</td></tr>\n",
       "</table>"
      ],
      "text/plain": [
       "<Table length=192>\n",
       " ZONE              TILE              MEDIAN_GALAXY_MU_RA MEDIAN_GALAXY_MU_DEC\n",
       "int32             str30                    float64             float64       \n",
       "----- ------------------------------ ------------------- --------------------\n",
       "    6 /data3/garyb/tno/matcher/zone0    0.00215177781765     0.00541379271602\n",
       "    6 /data3/garyb/tno/matcher/zone0    0.00345451036966      0.0027933510348\n",
       "    6 /data3/garyb/tno/matcher/zone0    0.00278644877861     0.00459860153655\n",
       "    6 /data3/garyb/tno/matcher/zone0    0.00221009004181     0.00392949719989\n",
       "    6 /data3/garyb/tno/matcher/zone0     0.0013441020727     0.00387851993738\n",
       "    6 /data3/garyb/tno/matcher/zone0    0.00176847881531     0.00405070944398\n",
       "    6 /data3/garyb/tno/matcher/zone0    0.00300547774537      0.0052672531952\n",
       "    6 /data3/garyb/tno/matcher/zone0    0.00271634466215     0.00492676434244\n",
       "    6 /data3/garyb/tno/matcher/zone0    0.00215970592475      0.0029434474084\n",
       "    6 /data3/garyb/tno/matcher/zone0    0.00215877234798     0.00287280397689\n",
       "  ...                            ...                 ...                  ...\n",
       "   55 /data3/garyb/tno/matcher/zone0    -0.0045693126999     0.00462484867384\n",
       "   55 /data3/garyb/tno/matcher/zone0   -0.00650850544728     0.00318645146423\n",
       "   55 /data3/garyb/tno/matcher/zone0   -0.00457447383805     0.00368364767781\n",
       "   55 /data3/garyb/tno/matcher/zone0   -0.00697724369276     0.00409980105856\n",
       "   55 /data3/garyb/tno/matcher/zone0   -0.00604542492497     0.00404726024385\n",
       "   55 /data3/garyb/tno/matcher/zone0   -0.00457107031428     0.00232903324994\n",
       "   55 /data3/garyb/tno/matcher/zone0   -0.00466730953177     0.00315965807938\n",
       "   55 /data3/garyb/tno/matcher/zone0   -0.00611778124714       0.004357246351\n",
       "   55 /data3/garyb/tno/matcher/zone0   -0.00481209982883     0.00355882903932\n",
       "   55 /data3/garyb/tno/matcher/zone0   -0.00475914995904      0.0027064908993"
      ]
     },
     "execution_count": 222,
     "metadata": {},
     "output_type": "execute_result"
    }
   ],
   "source": [
    "tst"
   ]
  },
  {
   "cell_type": "code",
   "execution_count": 275,
   "metadata": {},
   "outputs": [
    {
     "data": {
      "image/png": "[encoded data removed]",
      "text/plain": [
       "<matplotlib.figure.Figure at 0x13bcf8a58>"
      ]
     },
     "metadata": {},
     "output_type": "display_data"
    }
   ],
   "source": [
    "plt.plot(tst['MEDIAN_GALAXY_MU_RA'], tst['MEDIAN_GALAXY_MU_DEC'], '.', label = '15')\n",
    "t55 = tst[np.where(tst['ZONE'] == 55)]\n",
    "plt.plot(t55['MEDIAN_GALAXY_MU_RA'], t55['MEDIAN_GALAXY_MU_DEC'], 'g.', label = '55')\n",
    "t29 = tst[np.where(tst['ZONE'] == 29)]\n",
    "plt.plot(t29['MEDIAN_GALAXY_MU_RA'], t29['MEDIAN_GALAXY_MU_DEC'], 'r.', label = '29')\n",
    "t6 = tst[np.where(tst['ZONE'] == 6)]\n",
    "plt.plot(t6['MEDIAN_GALAXY_MU_RA'], t6['MEDIAN_GALAXY_MU_DEC'], 'y.', label = '6')\n",
    "plt.ylabel('Median Mu Dec')\n",
    "plt.xlabel('Median Mu RA')\n",
    "plt.legend()\n",
    "plt.show()"
   ]
  },
  {
   "cell_type": "code",
   "execution_count": null,
   "metadata": {},
   "outputs": [
    {
     "name": "stderr",
     "output_type": "stream",
     "text": [
      "/Users/Suyog/anaconda/lib/python3.6/site-packages/astropy/table/column.py:954: RuntimeWarning: invalid value encountered in less\n",
      "  return getattr(self.data, op)(other)\n",
      "/Users/Suyog/anaconda/lib/python3.6/site-packages/astropy/table/column.py:954: RuntimeWarning: invalid value encountered in greater\n",
      "  return getattr(self.data, op)(other)\n"
     ]
    }
   ],
   "source": [
    "tst2 = Median_galaxy_PMs()"
   ]
  },
  {
   "cell_type": "code",
   "execution_count": null,
   "metadata": {},
   "outputs": [],
   "source": []
  },
  {
   "cell_type": "code",
   "execution_count": 273,
   "metadata": {},
   "outputs": [
    {
     "data": {
      "image/png": "[encoded data removed]",
      "text/plain": [
       "<matplotlib.figure.Figure at 0x10fc3ccc0>"
      ]
     },
     "metadata": {},
     "output_type": "display_data"
    }
   ],
   "source": [
    "t29 = tst2[np.where(tst2['ZONE'] == 29)]\n",
    "plt.plot(t29['RA'], t29['DEC'], '.')\n",
    "for i, j in enumerate(t29):\n",
    "    plt.arrow(t29['RA'][i],t29['DEC'][i],(t29['MEDIAN_GALAXY_MU_RA'][i]),(t29['MEDIAN_GALAXY_MU_DEC'][i]),\n",
    "              shape='full', color='g', length_includes_head=True, \n",
    "         zorder=0, head_length=0.2, head_width=0.1)\n",
    "plt.show()"
   ]
  },
  {
   "cell_type": "code",
   "execution_count": 274,
   "metadata": {},
   "outputs": [
    {
     "data": {
      "image/png": "[encoded data removed]",
      "text/plain": [
       "<matplotlib.figure.Figure at 0x11dd40f98>"
      ]
     },
     "metadata": {},
     "output_type": "display_data"
    }
   ],
   "source": [
    "t55 = tst2[np.where(tst2['ZONE'] == 55)]\n",
    "plt.plot(t55['RA'], t55['DEC'], '.')\n",
    "for i, j in enumerate(t55):\n",
    "    plt.arrow(t55['RA'][i],t55['DEC'][i],(t55['MEDIAN_GALAXY_MU_RA'][i]),(t55['MEDIAN_GALAXY_MU_DEC'][i]),\n",
    "              shape='full', color='g', length_includes_head=True, \n",
    "         zorder=0, head_length=0.2, head_width=0.1)\n",
    "plt.show()"
   ]
  },
  {
   "cell_type": "code",
   "execution_count": 195,
   "metadata": {},
   "outputs": [],
   "source": [
    "filenames = glob('zone029/*proper_n.fits')\n",
    "tiles = []\n",
    "list.sort(filenames)\n",
    "for name in filenames:\n",
    "    tiles.append(Table.read(name))"
   ]
  },
  {
   "cell_type": "code",
   "execution_count": 207,
   "metadata": {},
   "outputs": [],
   "source": [
    "d1, d2 = Galaxy_PM_tile(tiles[0])"
   ]
  },
  {
   "cell_type": "code",
   "execution_count": 208,
   "metadata": {},
   "outputs": [
    {
     "name": "stdout",
     "output_type": "stream",
     "text": [
      "-0.00634711594949\n",
      "0.00391063481482\n"
     ]
    }
   ],
   "source": [
    "print(d1)\n",
    "print(d2)"
   ]
  },
  {
   "cell_type": "code",
   "execution_count": null,
   "metadata": {},
   "outputs": [],
   "source": []
  }
 ],
 "metadata": {
  "kernelspec": {
   "display_name": "Python 3",
   "language": "python",
   "name": "python3"
  },
  "language_info": {
   "codemirror_mode": {
    "name": "ipython",
    "version": 3
   },
   "file_extension": ".py",
   "mimetype": "text/x-python",
   "name": "python",
   "nbconvert_exporter": "python",
   "pygments_lexer": "ipython3",
   "version": "3.6.4"
  }
 },
 "nbformat": 4,
 "nbformat_minor": 2
}
